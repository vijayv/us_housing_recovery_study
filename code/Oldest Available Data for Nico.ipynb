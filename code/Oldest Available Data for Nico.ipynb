{
 "cells": [
  {
   "cell_type": "code",
   "execution_count": 66,
   "metadata": {
    "collapsed": false
   },
   "outputs": [],
   "source": [
    "import pandas as pd\n",
    "import numpy as np\n",
    "master = pd.read_csv(\"data/master.csv\", parse_dates=[\"Date\"])\n",
    "# Get oldest available date for each zip\n",
    "latest_date = master.groupby(\"RegionName\")[\"Date\", \"MedianSoldPrice\"].min()\n",
    "# Merge back to master to get data at the time\n",
    "oldest_data = pd.merge(latest_date.reset_index(), master.reset_index(), how='left', on=[\"RegionName\", \"Date\"])\n",
    "oldest_data.to_csv(\"oldest_avail_data.csv\")"
   ]
  }
 ],
 "metadata": {
  "kernelspec": {
   "display_name": "Python 2",
   "language": "python",
   "name": "python2"
  },
  "language_info": {
   "codemirror_mode": {
    "name": "ipython",
    "version": 2
   },
   "file_extension": ".py",
   "mimetype": "text/x-python",
   "name": "python",
   "nbconvert_exporter": "python",
   "pygments_lexer": "ipython2",
   "version": "2.7.9"
  }
 },
 "nbformat": 4,
 "nbformat_minor": 0
}
